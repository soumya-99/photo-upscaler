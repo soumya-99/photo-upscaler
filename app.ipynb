{
 "cells": [
  {
   "cell_type": "code",
   "execution_count": null,
   "metadata": {},
   "outputs": [],
   "source": [
    "import os\n",
    "import time\n",
    "from PIL import Image\n",
    "import numpy as np\n",
    "import tensorflow as tf\n",
    "import tensorflow_hub as hub\n",
    "import matplotlib.pyplot as plt\n",
    "# os.environ[\"TFHUB_DOWNLOAD_PROGRESS\"] = \"True\""
   ]
  },
  {
   "cell_type": "code",
   "execution_count": null,
   "metadata": {},
   "outputs": [],
   "source": [
    "# Declaring Constants\n",
    "IMAGE_PATH = \"SOURCE_IMAGE_PATH\"\n",
    "SAVED_MODEL_PATH = \"https://tfhub.dev/captain-pool/esrgan-tf2/1\""
   ]
  },
  {
   "cell_type": "code",
   "execution_count": null,
   "metadata": {},
   "outputs": [],
   "source": [
    "def preprocess_image(image_path):\n",
    "  \"\"\" Loads image from path and preprocesses to make it model ready\n",
    "      Args:\n",
    "        image_path: Path to the image file\n",
    "  \"\"\"\n",
    "  hr_image = tf.image.decode_image(tf.io.read_file(image_path))\n",
    "  # If PNG, remove the alpha channel. The model only supports\n",
    "  # images with 3 color channels.\n",
    "  if hr_image.shape[-1] == 4:\n",
    "    hr_image = hr_image[...,:-1]\n",
    "  hr_size = (tf.convert_to_tensor(hr_image.shape[:-1]) // 4) * 4\n",
    "  hr_image = tf.image.crop_to_bounding_box(hr_image, 0, 0, hr_size[0], hr_size[1])\n",
    "  hr_image = tf.cast(hr_image, tf.float32)\n",
    "  return tf.expand_dims(hr_image, 0)\n",
    "\n",
    "def save_image(image, filename):\n",
    "  \"\"\"\n",
    "    Saves unscaled Tensor Images.\n",
    "    Args:\n",
    "      image: 3D image tensor. [height, width, channels]\n",
    "      filename: Name of the file to save.\n",
    "  \"\"\"\n",
    "  if not isinstance(image, Image.Image):\n",
    "    image = tf.clip_by_value(image, 0, 255)\n",
    "    image = Image.fromarray(tf.cast(image, tf.uint8).numpy())\n",
    "  image.save(\"%s.jpg\" % filename)\n",
    "  print(\"Saved as %s.jpg\" % filename)"
   ]
  },
  {
   "cell_type": "code",
   "execution_count": null,
   "metadata": {},
   "outputs": [],
   "source": [
    "# %matplotlib inline\n",
    "def plot_image(image, title=\"\"):\n",
    "  \"\"\"\n",
    "    Plots images from image tensors.\n",
    "    Args:\n",
    "      image: 3D image tensor. [height, width, channels].\n",
    "      title: Title to display in the plot.\n",
    "  \"\"\"\n",
    "  image = np.asarray(image)\n",
    "  image = tf.clip_by_value(image, 0, 255)\n",
    "  image = Image.fromarray(tf.cast(image, tf.uint8).numpy())\n",
    "  plt.imshow(image)\n",
    "  plt.axis(\"off\")\n",
    "  plt.title(title)"
   ]
  },
  {
   "cell_type": "code",
   "execution_count": null,
   "metadata": {},
   "outputs": [],
   "source": [
    "hr_image = preprocess_image(IMAGE_PATH)"
   ]
  },
  {
   "cell_type": "code",
   "execution_count": null,
   "metadata": {},
   "outputs": [],
   "source": [
    "# Plotting Original Resolution image\n",
    "plot_image(tf.squeeze(hr_image), title=\"Original Image\")\n",
    "save_image(tf.squeeze(hr_image), filename=\"Original Image\")"
   ]
  },
  {
   "cell_type": "code",
   "execution_count": null,
   "metadata": {},
   "outputs": [],
   "source": [
    "model = hub.load(SAVED_MODEL_PATH)"
   ]
  },
  {
   "cell_type": "code",
   "execution_count": null,
   "metadata": {},
   "outputs": [],
   "source": [
    "start = time.time()\n",
    "fake_image = model(hr_image)\n",
    "fake_image = tf.squeeze(fake_image)\n",
    "print(\"Time Taken: %f\" % (time.time() - start))"
   ]
  },
  {
   "cell_type": "code",
   "execution_count": null,
   "metadata": {},
   "outputs": [],
   "source": [
    "# Plotting Super Resolution Image\n",
    "plot_image(tf.squeeze(fake_image), title=\"Super Resolution\")\n",
    "save_image(tf.squeeze(fake_image), filename=\"Super Resolution\")"
   ]
  }
 ],
 "metadata": {
  "language_info": {
   "name": "python"
  },
  "orig_nbformat": 4
 },
 "nbformat": 4,
 "nbformat_minor": 2
}
